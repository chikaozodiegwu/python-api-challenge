{
 "cells": [
  {
   "cell_type": "markdown",
   "metadata": {},
   "source": [
    "# WeatherPy\n",
    "----\n",
    "\n",
    "#### Note\n",
    "* Instructions have been included for each segment. You do not have to follow them exactly, but they are included to help you think through the steps."
   ]
  },
  {
   "cell_type": "code",
   "execution_count": 76,
   "metadata": {
    "scrolled": true
   },
   "outputs": [],
   "source": [
    "# Dependencies and Setup\n",
    "import matplotlib.pyplot as plt\n",
    "import pandas as pd\n",
    "import numpy as np\n",
    "import requests\n",
    "import time\n",
    "from scipy.stats import linregress\n",
    "from sklearn import datasets\n",
    "import json\n",
    "from tqdm import tqdm_notebook as tqdm\n",
    "\n",
    "# Import API key\n",
    "from api_keys import weather_api_key\n",
    "\n",
    "# Incorporated citipy to determine city based on latitude and longitude\n",
    "from citipy import citipy\n",
    "\n",
    "# Output File (CSV)\n",
    "output_data_file = \"output_data/cities.csv\"\n",
    "\n",
    "# Range of latitudes and longitudes\n",
    "lat_range = (-90, 90)\n",
    "lng_range = (-180, 180)"
   ]
  },
  {
   "cell_type": "markdown",
   "metadata": {},
   "source": [
    "## Generate Cities List"
   ]
  },
  {
   "cell_type": "code",
   "execution_count": 77,
   "metadata": {},
   "outputs": [
    {
     "data": {
      "text/plain": [
       "622"
      ]
     },
     "execution_count": 77,
     "metadata": {},
     "output_type": "execute_result"
    }
   ],
   "source": [
    "# List for holding lat_lngs and cities\n",
    "lat_lngs = []\n",
    "cities = []\n",
    "\n",
    "# Create a set of random lat and lng combinations\n",
    "lats = np.random.uniform(lat_range[0], lat_range[1], size=1500)\n",
    "lngs = np.random.uniform(lng_range[0], lng_range[1], size=1500)\n",
    "lat_lngs = zip(lats, lngs)\n",
    "\n",
    "# Identify nearest city for each lat, lng combination\n",
    "for lat_lng in lat_lngs:\n",
    "    city = citipy.nearest_city(lat_lng[0], lat_lng[1]).city_name\n",
    "    \n",
    "    # If the city is unique, then add it to a our cities list\n",
    "    if city not in cities:\n",
    "        cities.append(city)\n",
    "\n",
    "# Print the city count to confirm sufficient count\n",
    "len(cities)"
   ]
  },
  {
   "cell_type": "markdown",
   "metadata": {},
   "source": [
    "### Perform API Calls\n",
    "* Perform a weather check on each city using a series of successive API calls.\n",
    "* Include a print log of each city as it'sbeing processed (with the city number and city name).\n"
   ]
  },
  {
   "cell_type": "code",
   "execution_count": 78,
   "metadata": {},
   "outputs": [
    {
     "name": "stdout",
     "output_type": "stream",
     "text": [
      "http://api.openweathermap.org/data/2.5/weather?&appid=a2e1ae631941c6055d7e369b7f0f4003&units=imperial&q=\n",
      "<Response [200]>\n"
     ]
    }
   ],
   "source": [
    "#save api_key information \n",
    "\n",
    "url = \"http://api.openweathermap.org/data/2.5/weather?\"\n",
    "units = \"imperial\"\n",
    "#city = \"london\"\n",
    "# Build partial query URL\n",
    "query_url = f\"{url}&appid={weather_api_key}&units={units}&q=\"\n",
    "\n",
    "weather = requests.get(query_url+city)\n",
    "weather_json = weather.json()\n",
    "\n",
    "print(query_url)\n",
    "print(requests.get(query_url+city))\n",
    "#print(json.dumps(weather_json, indent=4))\n",
    "\n",
    "\n"
   ]
  },
  {
   "cell_type": "code",
   "execution_count": 79,
   "metadata": {},
   "outputs": [
    {
     "name": "stdout",
     "output_type": "stream",
     "text": [
      "Beginning Data Retrieval\n",
      "------------------------\n",
      "Processing Record 1 of set 1 | barrow\n",
      "Processing Record 2 of set 1 | palabuhanratu\n",
      "City not found. Skipping...\n",
      "Processing Record 3 of set 1 | cabo san lucas\n",
      "Processing Record 4 of set 1 | cururupu\n",
      "Processing Record 5 of set 1 | krasnoslobodsk\n",
      "Processing Record 6 of set 1 | ilulissat\n",
      "Processing Record 7 of set 1 | codrington\n",
      "Processing Record 8 of set 1 | lerik\n",
      "Processing Record 9 of set 1 | kodiak\n",
      "Processing Record 10 of set 1 | nizhneyansk\n",
      "City not found. Skipping...\n",
      "Processing Record 11 of set 1 | barahona\n",
      "Processing Record 12 of set 1 | gravdal\n",
      "Processing Record 13 of set 1 | hermanus\n",
      "Processing Record 14 of set 1 | belushya guba\n",
      "City not found. Skipping...\n",
      "Processing Record 15 of set 1 | yulara\n",
      "Processing Record 16 of set 1 | port alfred\n",
      "Processing Record 17 of set 1 | boa vista\n",
      "Processing Record 18 of set 1 | albany\n",
      "Processing Record 19 of set 1 | dikson\n",
      "Processing Record 20 of set 1 | taolanaro\n",
      "City not found. Skipping...\n",
      "Processing Record 21 of set 1 | bengkulu\n",
      "Processing Record 22 of set 1 | yarada\n",
      "Processing Record 23 of set 1 | torbay\n",
      "Processing Record 24 of set 1 | chuy\n",
      "Processing Record 25 of set 1 | dukat\n",
      "Processing Record 26 of set 1 | hilo\n",
      "Processing Record 27 of set 1 | khawhai\n",
      "Processing Record 28 of set 1 | ostrovnoy\n",
      "Processing Record 29 of set 1 | rikitea\n",
      "Processing Record 30 of set 1 | daye\n",
      "Processing Record 31 of set 1 | the pas\n",
      "Processing Record 32 of set 1 | ushuaia\n",
      "Processing Record 33 of set 1 | tasiilaq\n",
      "Processing Record 34 of set 1 | jamestown\n",
      "Processing Record 35 of set 1 | moron\n",
      "Processing Record 36 of set 1 | norman wells\n",
      "Processing Record 37 of set 1 | atasu\n",
      "Processing Record 38 of set 1 | sangar\n",
      "Processing Record 39 of set 1 | vaini\n",
      "Processing Record 40 of set 1 | hobart\n",
      "Processing Record 41 of set 1 | hasaki\n",
      "Processing Record 42 of set 1 | balkhash\n",
      "Processing Record 43 of set 1 | mataura\n",
      "Processing Record 44 of set 1 | anadyr\n",
      "Processing Record 45 of set 1 | vestmannaeyjar\n",
      "Processing Record 46 of set 1 | kangaatsiaq\n",
      "Processing Record 47 of set 1 | souillac\n",
      "Processing Record 48 of set 1 | kerteh\n",
      "City not found. Skipping...\n",
      "Processing Record 49 of set 1 | new norfolk\n",
      "Processing Record 50 of set 1 | laguna\n",
      "Processing Record 0 of set 2 | tautira\n",
      "Processing Record 1 of set 2 | ahipara\n",
      "Processing Record 2 of set 2 | avarua\n",
      "Processing Record 3 of set 2 | yurty\n",
      "Processing Record 4 of set 2 | byron bay\n",
      "Processing Record 5 of set 2 | saint george\n",
      "Processing Record 6 of set 2 | coihaique\n",
      "Processing Record 7 of set 2 | saskylakh\n",
      "Processing Record 8 of set 2 | vila do maio\n",
      "Processing Record 9 of set 2 | basco\n",
      "Processing Record 10 of set 2 | rehoboth\n",
      "Processing Record 11 of set 2 | tarko-sale\n",
      "Processing Record 12 of set 2 | nouadhibou\n",
      "Processing Record 13 of set 2 | butaritari\n",
      "Processing Record 14 of set 2 | soligalich\n",
      "Processing Record 15 of set 2 | punta arenas\n",
      "Processing Record 16 of set 2 | yellowknife\n",
      "Processing Record 17 of set 2 | marilandia\n",
      "Processing Record 18 of set 2 | roebourne\n",
      "Processing Record 19 of set 2 | santa rosa\n",
      "Processing Record 20 of set 2 | luwuk\n",
      "Processing Record 21 of set 2 | huarmey\n",
      "Processing Record 22 of set 2 | khatanga\n",
      "Processing Record 23 of set 2 | mount gambier\n",
      "Processing Record 24 of set 2 | carnarvon\n",
      "Processing Record 25 of set 2 | henties bay\n",
      "Processing Record 26 of set 2 | kenitra\n",
      "Processing Record 27 of set 2 | nhulunbuy\n",
      "Processing Record 28 of set 2 | tuktoyaktuk\n",
      "Processing Record 29 of set 2 | yerbogachen\n",
      "Processing Record 30 of set 2 | port hardy\n",
      "Processing Record 31 of set 2 | busselton\n",
      "Processing Record 32 of set 2 | luderitz\n",
      "Processing Record 33 of set 2 | vestmanna\n",
      "Processing Record 34 of set 2 | thompson\n",
      "Processing Record 35 of set 2 | cap malheureux\n",
      "Processing Record 36 of set 2 | karaidel\n",
      "Processing Record 37 of set 2 | bambous virieux\n",
      "Processing Record 38 of set 2 | taksimo\n",
      "Processing Record 39 of set 2 | paracuru\n",
      "Processing Record 40 of set 2 | mnogovershinnyy\n",
      "Processing Record 41 of set 2 | kenai\n",
      "Processing Record 42 of set 2 | hopkinsville\n",
      "Processing Record 43 of set 2 | dunedin\n",
      "Processing Record 44 of set 2 | bredasdorp\n",
      "Processing Record 45 of set 2 | burica\n",
      "City not found. Skipping...\n",
      "Processing Record 46 of set 2 | ribeira grande\n",
      "Processing Record 47 of set 2 | groningen\n",
      "Processing Record 48 of set 2 | belmonte\n",
      "Processing Record 49 of set 2 | cape town\n",
      "Processing Record 0 of set 3 | kaeo\n",
      "Processing Record 1 of set 3 | walvis bay\n",
      "Processing Record 2 of set 3 | mahebourg\n",
      "Processing Record 3 of set 3 | namatanai\n",
      "Processing Record 4 of set 3 | atuona\n",
      "Processing Record 5 of set 3 | harper\n",
      "Processing Record 6 of set 3 | junagadh\n",
      "Processing Record 7 of set 3 | balaipungut\n",
      "Processing Record 8 of set 3 | qaanaaq\n",
      "Processing Record 9 of set 3 | alyangula\n",
      "Processing Record 10 of set 3 | lolua\n",
      "City not found. Skipping...\n",
      "Processing Record 11 of set 3 | port elizabeth\n",
      "Processing Record 12 of set 3 | kamenskoye\n",
      "City not found. Skipping...\n",
      "Processing Record 13 of set 3 | guerrero negro\n",
      "Processing Record 14 of set 3 | the valley\n",
      "Processing Record 15 of set 3 | qasigiannguit\n",
      "Processing Record 16 of set 3 | bargal\n",
      "City not found. Skipping...\n",
      "Processing Record 17 of set 3 | port blair\n",
      "Processing Record 18 of set 3 | orange cove\n",
      "Processing Record 19 of set 3 | palu\n",
      "Processing Record 20 of set 3 | castro\n",
      "Processing Record 21 of set 3 | naryan-mar\n",
      "Processing Record 22 of set 3 | zima\n",
      "Processing Record 23 of set 3 | camden\n",
      "Processing Record 24 of set 3 | pevek\n",
      "Processing Record 25 of set 3 | kavieng\n",
      "Processing Record 26 of set 3 | aykhal\n",
      "Processing Record 27 of set 3 | pacific grove\n",
      "Processing Record 28 of set 3 | varsag\n",
      "Processing Record 29 of set 3 | yenagoa\n",
      "Processing Record 30 of set 3 | novikovo\n",
      "Processing Record 31 of set 3 | kapaa\n",
      "Processing Record 32 of set 3 | sinjar\n",
      "Processing Record 33 of set 3 | hithadhoo\n",
      "Processing Record 34 of set 3 | along\n",
      "Processing Record 35 of set 3 | houma\n",
      "Processing Record 36 of set 3 | baie-comeau\n",
      "Processing Record 37 of set 3 | wahran\n",
      "City not found. Skipping...\n",
      "Processing Record 38 of set 3 | likoporia\n",
      "City not found. Skipping...\n",
      "Processing Record 39 of set 3 | cidreira\n",
      "Processing Record 40 of set 3 | nome\n",
      "Processing Record 41 of set 3 | frontera\n",
      "Processing Record 42 of set 3 | cassilandia\n",
      "Processing Record 43 of set 3 | mogadishu\n",
      "Processing Record 44 of set 3 | attawapiskat\n",
      "City not found. Skipping...\n",
      "Processing Record 45 of set 3 | sentyabrskiy\n",
      "City not found. Skipping...\n",
      "Processing Record 46 of set 3 | amderma\n",
      "City not found. Skipping...\n",
      "Processing Record 47 of set 3 | mar del plata\n",
      "Processing Record 48 of set 3 | tessalit\n",
      "Processing Record 49 of set 3 | rawannawi\n",
      "City not found. Skipping...\n",
      "Processing Record 0 of set 4 | manado\n",
      "Processing Record 1 of set 4 | nicoya\n",
      "Processing Record 2 of set 4 | olovo\n",
      "Processing Record 3 of set 4 | bolungarvik\n",
      "City not found. Skipping...\n",
      "Processing Record 4 of set 4 | pontal do parana\n",
      "Processing Record 5 of set 4 | khilok\n",
      "Processing Record 6 of set 4 | tiznit\n",
      "Processing Record 7 of set 4 | ayan\n",
      "Processing Record 8 of set 4 | kazachinskoye\n",
      "Processing Record 9 of set 4 | contamana\n",
      "Processing Record 10 of set 4 | ambulu\n",
      "Processing Record 11 of set 4 | srednekolymsk\n",
      "Processing Record 12 of set 4 | samusu\n",
      "City not found. Skipping...\n",
      "Processing Record 13 of set 4 | korla\n",
      "Processing Record 14 of set 4 | bluff\n",
      "Processing Record 15 of set 4 | clyde river\n",
      "Processing Record 16 of set 4 | mutis\n",
      "Processing Record 17 of set 4 | isangel\n",
      "Processing Record 18 of set 4 | imbituba\n",
      "Processing Record 19 of set 4 | narsaq\n",
      "Processing Record 20 of set 4 | jiddah\n",
      "City not found. Skipping...\n",
      "Processing Record 21 of set 4 | airai\n",
      "Processing Record 22 of set 4 | vardo\n",
      "Processing Record 23 of set 4 | prado\n",
      "Processing Record 24 of set 4 | owando\n",
      "Processing Record 25 of set 4 | georgetown\n",
      "Processing Record 26 of set 4 | craig\n",
      "Processing Record 27 of set 4 | pandamatenga\n",
      "Processing Record 28 of set 4 | tuatapere\n",
      "Processing Record 29 of set 4 | prabumulih\n",
      "Processing Record 30 of set 4 | padang\n",
      "Processing Record 31 of set 4 | bilibino\n",
      "Processing Record 32 of set 4 | sahrak\n",
      "City not found. Skipping...\n",
      "Processing Record 33 of set 4 | lagoa\n",
      "Processing Record 34 of set 4 | morwell\n",
      "Processing Record 35 of set 4 | neka\n"
     ]
    },
    {
     "name": "stdout",
     "output_type": "stream",
     "text": [
      "Processing Record 36 of set 4 | severo-kurilsk\n",
      "Processing Record 37 of set 4 | sisimiut\n",
      "Processing Record 38 of set 4 | kaitangata\n",
      "Processing Record 39 of set 4 | grand river south east\n",
      "City not found. Skipping...\n",
      "Processing Record 40 of set 4 | plettenberg bay\n",
      "Processing Record 41 of set 4 | alice springs\n",
      "Processing Record 42 of set 4 | tandil\n",
      "Processing Record 43 of set 4 | gaziantep\n",
      "Processing Record 44 of set 4 | illoqqortoormiut\n",
      "City not found. Skipping...\n",
      "Processing Record 45 of set 4 | upernavik\n",
      "Processing Record 46 of set 4 | caravelas\n",
      "Processing Record 47 of set 4 | barentsburg\n",
      "City not found. Skipping...\n",
      "Processing Record 48 of set 4 | ambagarh chauki\n",
      "Processing Record 49 of set 4 | samarai\n",
      "Processing Record 0 of set 5 | emba\n",
      "Processing Record 1 of set 5 | barranca\n",
      "Processing Record 2 of set 5 | ambon\n",
      "Processing Record 3 of set 5 | oum hadjer\n",
      "Processing Record 4 of set 5 | ayia galini\n",
      "Processing Record 5 of set 5 | piranshahr\n",
      "Processing Record 6 of set 5 | alofi\n",
      "Processing Record 7 of set 5 | safwah\n",
      "City not found. Skipping...\n",
      "Processing Record 8 of set 5 | ruteng\n",
      "Processing Record 9 of set 5 | yaan\n",
      "Processing Record 10 of set 5 | jiayuguan\n",
      "Processing Record 11 of set 5 | chemainus\n",
      "Processing Record 12 of set 5 | lebu\n",
      "Processing Record 13 of set 5 | murovani kurylivtsi\n",
      "Processing Record 14 of set 5 | matagami\n",
      "Processing Record 15 of set 5 | malanje\n",
      "Processing Record 16 of set 5 | katsuura\n",
      "Processing Record 17 of set 5 | venado tuerto\n",
      "Processing Record 18 of set 5 | gayny\n",
      "Processing Record 19 of set 5 | lakes entrance\n",
      "Processing Record 20 of set 5 | east london\n",
      "Processing Record 21 of set 5 | touros\n",
      "Processing Record 22 of set 5 | vanimo\n",
      "Processing Record 23 of set 5 | pierre\n",
      "Processing Record 24 of set 5 | jiroft\n",
      "City not found. Skipping...\n",
      "Processing Record 25 of set 5 | grindavik\n",
      "Processing Record 26 of set 5 | sao filipe\n",
      "Processing Record 27 of set 5 | colesberg\n",
      "Processing Record 28 of set 5 | fortuna\n",
      "Processing Record 29 of set 5 | kieta\n",
      "Processing Record 30 of set 5 | tahoua\n",
      "Processing Record 31 of set 5 | jumla\n",
      "Processing Record 32 of set 5 | maniitsoq\n",
      "Processing Record 33 of set 5 | lanzhou\n",
      "Processing Record 34 of set 5 | luanda\n",
      "Processing Record 35 of set 5 | kosh-agach\n",
      "Processing Record 36 of set 5 | mantua\n",
      "Processing Record 37 of set 5 | belyy yar\n",
      "Processing Record 38 of set 5 | bartlesville\n",
      "Processing Record 39 of set 5 | salalah\n",
      "Processing Record 40 of set 5 | fairmont\n",
      "Processing Record 41 of set 5 | bela\n",
      "Processing Record 42 of set 5 | cranbrook\n",
      "Processing Record 43 of set 5 | eureka\n",
      "Processing Record 44 of set 5 | cibitoke\n",
      "Processing Record 45 of set 5 | waingapu\n",
      "Processing Record 46 of set 5 | praia\n",
      "Processing Record 47 of set 5 | san rafael\n",
      "Processing Record 48 of set 5 | ballina\n",
      "Processing Record 49 of set 5 | kasempa\n",
      "Processing Record 0 of set 6 | nara\n",
      "Processing Record 1 of set 6 | mae sai\n",
      "Processing Record 2 of set 6 | inirida\n",
      "Processing Record 3 of set 6 | shelui\n",
      "Processing Record 4 of set 6 | akyab\n",
      "Processing Record 5 of set 6 | klaksvik\n",
      "Processing Record 6 of set 6 | arraial do cabo\n",
      "Processing Record 7 of set 6 | haines junction\n",
      "Processing Record 8 of set 6 | madang\n",
      "Processing Record 9 of set 6 | richards bay\n",
      "Processing Record 10 of set 6 | yangcun\n",
      "Processing Record 11 of set 6 | russell\n",
      "Processing Record 12 of set 6 | sinnamary\n",
      "Processing Record 13 of set 6 | praia da vitoria\n",
      "Processing Record 14 of set 6 | mount isa\n",
      "Processing Record 15 of set 6 | burkhala\n",
      "City not found. Skipping...\n",
      "Processing Record 16 of set 6 | tiarei\n",
      "Processing Record 17 of set 6 | bambanglipuro\n",
      "Processing Record 18 of set 6 | nikolskoye\n",
      "Processing Record 19 of set 6 | necochea\n",
      "Processing Record 20 of set 6 | hailun\n",
      "Processing Record 21 of set 6 | rio grande\n",
      "Processing Record 22 of set 6 | phumi samraong\n",
      "City not found. Skipping...\n",
      "Processing Record 23 of set 6 | naze\n",
      "Processing Record 24 of set 6 | la ronge\n",
      "Processing Record 25 of set 6 | deer lake\n",
      "Processing Record 26 of set 6 | flinders\n",
      "Processing Record 27 of set 6 | saint-philippe\n",
      "Processing Record 28 of set 6 | zenzeli\n",
      "Processing Record 29 of set 6 | cairns\n",
      "Processing Record 30 of set 6 | san cristobal\n",
      "Processing Record 31 of set 6 | yining\n",
      "Processing Record 32 of set 6 | vidim\n",
      "Processing Record 33 of set 6 | quatre cocos\n",
      "Processing Record 34 of set 6 | jambi\n",
      "Processing Record 35 of set 6 | slave lake\n",
      "Processing Record 36 of set 6 | maracaju\n",
      "Processing Record 37 of set 6 | aklavik\n",
      "Processing Record 38 of set 6 | portland\n",
      "Processing Record 39 of set 6 | itarema\n",
      "Processing Record 40 of set 6 | medak\n",
      "Processing Record 41 of set 6 | bethel\n",
      "Processing Record 42 of set 6 | valparaiso\n",
      "Processing Record 43 of set 6 | kavaratti\n",
      "Processing Record 44 of set 6 | amahai\n",
      "Processing Record 45 of set 6 | south lake tahoe\n",
      "Processing Record 46 of set 6 | lorengau\n",
      "Processing Record 47 of set 6 | tsihombe\n",
      "City not found. Skipping...\n",
      "Processing Record 48 of set 6 | vao\n",
      "Processing Record 49 of set 6 | champasak\n",
      "Processing Record 0 of set 7 | izhma\n",
      "Processing Record 1 of set 7 | pasni\n",
      "Processing Record 2 of set 7 | morondava\n",
      "Processing Record 3 of set 7 | rio gallegos\n",
      "Processing Record 4 of set 7 | saldanha\n",
      "Processing Record 5 of set 7 | barillas\n",
      "Processing Record 6 of set 7 | pitimbu\n",
      "Processing Record 7 of set 7 | leshukonskoye\n",
      "Processing Record 8 of set 7 | gorin\n",
      "Processing Record 9 of set 7 | provideniya\n",
      "Processing Record 10 of set 7 | talwandi bhai\n",
      "Processing Record 11 of set 7 | constitucion\n",
      "Processing Record 12 of set 7 | palasa\n",
      "Processing Record 13 of set 7 | bamako\n",
      "Processing Record 14 of set 7 | magui\n",
      "City not found. Skipping...\n",
      "Processing Record 15 of set 7 | san patricio\n",
      "Processing Record 16 of set 7 | mamallapuram\n",
      "Processing Record 17 of set 7 | rocha\n",
      "Processing Record 18 of set 7 | te anau\n",
      "Processing Record 19 of set 7 | olavarria\n",
      "Processing Record 20 of set 7 | ketchikan\n",
      "Processing Record 21 of set 7 | wahiawa\n",
      "Processing Record 22 of set 7 | edmundston\n",
      "Processing Record 23 of set 7 | la palma\n",
      "Processing Record 24 of set 7 | bayshore gardens\n",
      "Processing Record 25 of set 7 | olafsvik\n",
      "Processing Record 26 of set 7 | mujiayingzi\n",
      "Processing Record 27 of set 7 | cockburn town\n",
      "Processing Record 28 of set 7 | jam sahib\n",
      "Processing Record 29 of set 7 | chama\n",
      "Processing Record 30 of set 7 | kruisfontein\n",
      "Processing Record 31 of set 7 | phu ly\n",
      "Processing Record 32 of set 7 | conde\n",
      "Processing Record 33 of set 7 | namibe\n",
      "Processing Record 34 of set 7 | kigoma\n",
      "Processing Record 35 of set 7 | nemuro\n",
      "Processing Record 36 of set 7 | karaul\n",
      "City not found. Skipping...\n",
      "Processing Record 37 of set 7 | safaga\n",
      "Processing Record 38 of set 7 | kloulklubed\n",
      "Processing Record 39 of set 7 | yar-sale\n",
      "Processing Record 40 of set 7 | aflu\n",
      "City not found. Skipping...\n",
      "Processing Record 41 of set 7 | fort-shevchenko\n",
      "Processing Record 42 of set 7 | muli\n",
      "Processing Record 43 of set 7 | nikolskoye-na-cheremshane\n",
      "City not found. Skipping...\n",
      "Processing Record 44 of set 7 | matara\n",
      "Processing Record 45 of set 7 | southbridge\n",
      "Processing Record 46 of set 7 | lufilufi\n",
      "Processing Record 47 of set 7 | shingu\n",
      "Processing Record 48 of set 7 | chilca\n",
      "Processing Record 49 of set 7 | paracho\n",
      "City not found. Skipping...\n",
      "Processing Record 0 of set 8 | samfya\n",
      "Processing Record 1 of set 8 | mocuba\n",
      "Processing Record 2 of set 8 | iranshahr\n",
      "Processing Record 3 of set 8 | margate\n",
      "Processing Record 4 of set 8 | gogrial\n",
      "Processing Record 5 of set 8 | maues\n",
      "Processing Record 6 of set 8 | talnakh\n",
      "Processing Record 7 of set 8 | marcona\n",
      "City not found. Skipping...\n",
      "Processing Record 8 of set 8 | chokurdakh\n",
      "Processing Record 9 of set 8 | ulaanbaatar\n",
      "Processing Record 10 of set 8 | tahta\n",
      "Processing Record 11 of set 8 | srikakulam\n",
      "Processing Record 12 of set 8 | sao felix do xingu\n",
      "Processing Record 13 of set 8 | tura\n",
      "Processing Record 14 of set 8 | petropavlovsk-kamchatskiy\n",
      "Processing Record 15 of set 8 | bathsheba\n",
      "Processing Record 16 of set 8 | viedma\n",
      "Processing Record 17 of set 8 | tiksi\n",
      "Processing Record 18 of set 8 | omsukchan\n",
      "Processing Record 19 of set 8 | porto-vecchio\n",
      "Processing Record 20 of set 8 | vaitupu\n",
      "City not found. Skipping...\n",
      "Processing Record 21 of set 8 | banda aceh\n",
      "Processing Record 22 of set 8 | san jose\n",
      "Processing Record 23 of set 8 | brenham\n",
      "Processing Record 24 of set 8 | belaya gora\n"
     ]
    },
    {
     "name": "stdout",
     "output_type": "stream",
     "text": [
      "Processing Record 25 of set 8 | sakakah\n",
      "Processing Record 26 of set 8 | proletarsk\n",
      "Processing Record 27 of set 8 | iqaluit\n",
      "Processing Record 28 of set 8 | finnsnes\n",
      "Processing Record 29 of set 8 | deep river\n",
      "Processing Record 30 of set 8 | rizhao\n",
      "Processing Record 31 of set 8 | gallup\n",
      "Processing Record 32 of set 8 | dingle\n",
      "Processing Record 33 of set 8 | yagodnoye\n",
      "Processing Record 34 of set 8 | faanui\n",
      "Processing Record 35 of set 8 | tabanan\n",
      "Processing Record 36 of set 8 | labuhan\n",
      "Processing Record 37 of set 8 | boali\n",
      "Processing Record 38 of set 8 | saint-pierre\n",
      "Processing Record 39 of set 8 | izazi\n",
      "Processing Record 40 of set 8 | kondinskoye\n",
      "Processing Record 41 of set 8 | gat\n",
      "Processing Record 42 of set 8 | markova\n",
      "Processing Record 43 of set 8 | acajutla\n",
      "Processing Record 44 of set 8 | teknaf\n",
      "Processing Record 45 of set 8 | totskoye\n",
      "Processing Record 46 of set 8 | filimonovo\n",
      "Processing Record 47 of set 8 | college\n",
      "Processing Record 48 of set 8 | daru\n",
      "Processing Record 49 of set 8 | smithers\n",
      "Processing Record 0 of set 9 | livingston\n",
      "Processing Record 1 of set 9 | victoria\n",
      "Processing Record 2 of set 9 | khuzhir\n",
      "Processing Record 3 of set 9 | hede\n",
      "Processing Record 4 of set 9 | pisco\n",
      "Processing Record 5 of set 9 | shimoda\n",
      "Processing Record 6 of set 9 | vostok\n",
      "Processing Record 7 of set 9 | jiuquan\n",
      "Processing Record 8 of set 9 | halalo\n",
      "City not found. Skipping...\n",
      "Processing Record 9 of set 9 | ikot ekpene\n",
      "Processing Record 10 of set 9 | gorahun\n",
      "Processing Record 11 of set 9 | sao miguel do tapuio\n",
      "Processing Record 12 of set 9 | cayenne\n",
      "Processing Record 13 of set 9 | chara\n",
      "Processing Record 14 of set 9 | batagay\n",
      "Processing Record 15 of set 9 | saquarema\n",
      "Processing Record 16 of set 9 | mackenzie\n",
      "Processing Record 17 of set 9 | okhotsk\n",
      "Processing Record 18 of set 9 | erenhot\n",
      "Processing Record 19 of set 9 | wamba\n",
      "Processing Record 20 of set 9 | manokwari\n",
      "Processing Record 21 of set 9 | kindu\n",
      "Processing Record 22 of set 9 | kalmunai\n",
      "Processing Record 23 of set 9 | geraldton\n",
      "Processing Record 24 of set 9 | ancud\n",
      "Processing Record 25 of set 9 | goderich\n",
      "Processing Record 26 of set 9 | staunton\n",
      "Processing Record 27 of set 9 | kamaishi\n",
      "Processing Record 28 of set 9 | magdagachi\n",
      "Processing Record 29 of set 9 | cherskiy\n",
      "Processing Record 30 of set 9 | parabel\n",
      "Processing Record 31 of set 9 | dali\n",
      "Processing Record 32 of set 9 | maragogi\n",
      "Processing Record 33 of set 9 | kindersley\n",
      "Processing Record 34 of set 9 | port hedland\n",
      "Processing Record 35 of set 9 | los llanos de aridane\n",
      "Processing Record 36 of set 9 | wewak\n",
      "Processing Record 37 of set 9 | fulton\n",
      "Processing Record 38 of set 9 | behbahan\n",
      "Processing Record 39 of set 9 | galgani\n",
      "City not found. Skipping...\n",
      "Processing Record 40 of set 9 | ilebo\n",
      "Processing Record 41 of set 9 | shakawe\n",
      "Processing Record 42 of set 9 | lata\n",
      "Processing Record 43 of set 9 | sechura\n",
      "Processing Record 44 of set 9 | roma\n",
      "Processing Record 45 of set 9 | santa cruz\n",
      "Processing Record 46 of set 9 | santiago del estero\n",
      "Processing Record 47 of set 9 | saint pete beach\n",
      "Processing Record 48 of set 9 | vittoria\n",
      "Processing Record 49 of set 9 | port-gentil\n",
      "Processing Record 0 of set 10 | gaoyou\n",
      "Processing Record 1 of set 10 | zhaotong\n",
      "Processing Record 2 of set 10 | redmond\n",
      "Processing Record 3 of set 10 | caucaia\n",
      "Processing Record 4 of set 10 | puerto escondido\n",
      "Processing Record 5 of set 10 | san joaquin\n",
      "Processing Record 6 of set 10 | acapulco\n",
      "Processing Record 7 of set 10 | nanortalik\n",
      "Processing Record 8 of set 10 | yalchiki\n",
      "City not found. Skipping...\n",
      "Processing Record 9 of set 10 | general roca\n",
      "Processing Record 10 of set 10 | darhan\n",
      "Processing Record 11 of set 10 | puri\n",
      "Processing Record 12 of set 10 | atbasar\n",
      "Processing Record 13 of set 10 | bubaque\n",
      "Processing Record 14 of set 10 | maralal\n",
      "Processing Record 15 of set 10 | abnub\n",
      "Processing Record 16 of set 10 | san blas\n",
      "Processing Record 17 of set 10 | surt\n",
      "Processing Record 18 of set 10 | auki\n",
      "Processing Record 19 of set 10 | garden city\n",
      "Processing Record 20 of set 10 | atambua\n",
      "Processing Record 21 of set 10 | carballo\n",
      "Processing Record 22 of set 10 | porvoo\n",
      "Processing Record 23 of set 10 | parana\n",
      "Processing Record 24 of set 10 | kensington\n",
      "Processing Record 25 of set 10 | heilbron\n",
      "Processing Record 26 of set 10 | tucurui\n",
      "Processing Record 27 of set 10 | zhigansk\n",
      "Processing Record 28 of set 10 | najran\n",
      "Processing Record 29 of set 10 | manaure\n",
      "Processing Record 30 of set 10 | lar\n",
      "Processing Record 31 of set 10 | sambava\n",
      "Processing Record 32 of set 10 | tera\n",
      "Processing Record 33 of set 10 | coquimbo\n",
      "Processing Record 34 of set 10 | husavik\n",
      "Processing Record 35 of set 10 | palmer\n",
      "Processing Record 36 of set 10 | tongren\n",
      "Processing Record 37 of set 10 | aksay\n",
      "Processing Record 38 of set 10 | dundwaraganj\n",
      "Processing Record 39 of set 10 | nirsa\n",
      "Processing Record 40 of set 10 | pousat\n",
      "City not found. Skipping...\n",
      "Processing Record 41 of set 10 | ust-tsilma\n",
      "Processing Record 42 of set 10 | fairbanks\n",
      "Processing Record 43 of set 10 | mezhdurechenskiy\n",
      "Processing Record 44 of set 10 | bang saphan\n",
      "Processing Record 45 of set 10 | kulhudhuffushi\n",
      "Processing Record 46 of set 10 | calama\n",
      "Processing Record 47 of set 10 | coos bay\n",
      "Processing Record 48 of set 10 | chapleau\n",
      "Processing Record 49 of set 10 | tokur\n",
      "Processing Record 0 of set 11 | pedernales\n",
      "Processing Record 1 of set 11 | alcaniz\n",
      "Processing Record 2 of set 11 | chapais\n",
      "Processing Record 3 of set 11 | ambilobe\n",
      "Processing Record 4 of set 11 | cascais\n",
      "Processing Record 5 of set 11 | zhetybay\n",
      "City not found. Skipping...\n",
      "Processing Record 6 of set 11 | antofagasta\n",
      "Processing Record 7 of set 11 | makakilo city\n",
      "Processing Record 8 of set 11 | zheshart\n",
      "Processing Record 9 of set 11 | barabai\n",
      "Processing Record 10 of set 11 | ystad\n",
      "Processing Record 11 of set 11 | alta floresta\n",
      "Processing Record 12 of set 11 | vagur\n",
      "Processing Record 13 of set 11 | dungarvan\n",
      "Processing Record 14 of set 11 | lasa\n",
      "Processing Record 15 of set 11 | komsomolskiy\n",
      "Processing Record 16 of set 11 | masunga\n",
      "Processing Record 17 of set 11 | anse-bertrand\n",
      "Processing Record 18 of set 11 | hervey bay\n",
      "Processing Record 19 of set 11 | celestun\n",
      "Processing Record 20 of set 11 | hammerfest\n",
      "Processing Record 21 of set 11 | vryburg\n",
      "Processing Record 22 of set 11 | westport\n",
      "Processing Record 23 of set 11 | dzhusaly\n",
      "City not found. Skipping...\n",
      "Processing Record 24 of set 11 | mys shmidta\n",
      "City not found. Skipping...\n",
      "Processing Record 25 of set 11 | isla mujeres\n",
      "Processing Record 26 of set 11 | nanchang\n",
      "Processing Record 27 of set 11 | noumea\n",
      "Processing Record 28 of set 11 | andenes\n",
      "Processing Record 29 of set 11 | coruripe\n",
      "Processing Record 30 of set 11 | khormuj\n",
      "City not found. Skipping...\n",
      "Processing Record 31 of set 11 | rovaniemi\n",
      "Processing Record 32 of set 11 | wuwei\n",
      "Processing Record 33 of set 11 | puerto ayora\n",
      "Processing Record 34 of set 11 | ponta do sol\n",
      "Processing Record 35 of set 11 | sitka\n",
      "Processing Record 36 of set 11 | alexandria\n",
      "Processing Record 37 of set 11 | faya\n",
      "Processing Record 38 of set 11 | ajdabiya\n",
      "Processing Record 39 of set 11 | christchurch\n",
      "Processing Record 40 of set 11 | asau\n",
      "Processing Record 41 of set 11 | moerai\n",
      "Processing Record 42 of set 11 | severo-yeniseyskiy\n",
      "Processing Record 43 of set 11 | la macarena\n",
      "Processing Record 44 of set 11 | melo\n",
      "Processing Record 45 of set 11 | dukhovnitskoye\n",
      "Processing Record 46 of set 11 | umzimvubu\n",
      "City not found. Skipping...\n",
      "Processing Record 47 of set 11 | aksu\n",
      "Processing Record 48 of set 11 | emerald\n",
      "Processing Record 49 of set 11 | bartica\n",
      "Processing Record 0 of set 12 | boshnyakovo\n",
      "Processing Record 1 of set 12 | kifri\n",
      "Processing Record 2 of set 12 | hachinohe\n",
      "Processing Record 3 of set 12 | frolishchi\n",
      "Processing Record 4 of set 12 | berezovyy\n",
      "Processing Record 5 of set 12 | kirakira\n",
      "Processing Record 6 of set 12 | grand gaube\n",
      "Processing Record 7 of set 12 | rungata\n",
      "City not found. Skipping...\n",
      "Processing Record 8 of set 12 | usevya\n",
      "Processing Record 9 of set 12 | neiafu\n",
      "Processing Record 10 of set 12 | okato\n",
      "Processing Record 11 of set 12 | khovu-aksy\n",
      "Processing Record 12 of set 12 | kibala\n",
      "Processing Record 13 of set 12 | paamiut\n",
      "Processing Record 14 of set 12 | billings\n",
      "Processing Record 15 of set 12 | jieshi\n",
      "Processing Record 16 of set 12 | oranjestad\n",
      "Processing Record 17 of set 12 | ciudad del maiz\n"
     ]
    },
    {
     "name": "stdout",
     "output_type": "stream",
     "text": [
      "Processing Record 18 of set 12 | indramayu\n",
      "Processing Record 19 of set 12 | florianopolis\n",
      "Processing Record 20 of set 12 | gwanda\n",
      "Processing Record 21 of set 12 | gikongoro\n",
      "Processing Record 22 of set 12 | navahrudak\n",
      "Processing Record 23 of set 12 | aniva\n",
      "Processing Record 24 of set 12 | kununurra\n",
      "Processing Record 25 of set 12 | scottsbluff\n",
      "Processing Record 26 of set 12 | lixourion\n",
      "Processing Record 27 of set 12 | kjollefjord\n",
      "Processing Record 28 of set 12 | palana\n",
      "Processing Record 29 of set 12 | delta del tigre\n",
      "Processing Record 30 of set 12 | montoro\n",
      "Processing Record 31 of set 12 | pafos\n",
      "Processing Record 32 of set 12 | brae\n",
      "Processing Record 33 of set 12 | okmulgee\n",
      "Processing Record 34 of set 12 | esperance\n",
      "Processing Record 35 of set 12 | ponta delgada\n",
      "Processing Record 36 of set 12 | agadez\n",
      "Processing Record 37 of set 12 | sosua\n",
      "Processing Record 38 of set 12 | hamilton\n",
      "Processing Record 39 of set 12 | nichinan\n",
      "Processing Record 40 of set 12 | derzhavinsk\n",
      "Processing Record 41 of set 12 | florina\n",
      "Processing Record 42 of set 12 | sioux lookout\n",
      "Processing Record 43 of set 12 | altagracia de orituco\n",
      "Processing Record 44 of set 12 | jackson\n",
      "Processing Record 45 of set 12 | bulaevo\n",
      "Processing Record 46 of set 12 | chenzhou\n",
      "Processing Record 47 of set 12 | novobirilyussy\n",
      "Processing Record 48 of set 12 | raga\n",
      "Processing Record 49 of set 12 | murdochville\n",
      "Processing Record 0 of set 13 | nagua\n",
      "Processing Record 1 of set 13 | sabang\n",
      "Processing Record 2 of set 13 | tir pol\n",
      "City not found. Skipping...\n",
      "Processing Record 3 of set 13 | pozo colorado\n",
      "Processing Record 4 of set 13 | taoudenni\n",
      "Processing Record 5 of set 13 | berlevag\n",
      "Processing Record 6 of set 13 | saleaula\n",
      "City not found. Skipping...\n",
      "Processing Record 7 of set 13 | ewa beach\n",
      "Processing Record 8 of set 13 | lambari\n",
      "Processing Record 9 of set 13 | kudahuvadhoo\n",
      "Processing Record 10 of set 13 | nelson bay\n",
      "Processing Record 11 of set 13 | meyungs\n",
      "City not found. Skipping...\n",
      "Processing Record 12 of set 13 | ulladulla\n",
      "Processing Record 13 of set 13 | lompoc\n",
      "Processing Record 14 of set 13 | presidente medici\n",
      "Processing Record 15 of set 13 | washington\n",
      "Processing Record 16 of set 13 | mayo\n",
      "Processing Record 17 of set 13 | high rock\n",
      "Processing Record 18 of set 13 | naantali\n",
      "Processing Record 19 of set 13 | shikarpur\n",
      "Processing Record 20 of set 13 | ferme-neuve\n",
      "Processing Record 21 of set 13 | hofn\n",
      "----------------------------\n",
      "Data Retrieval Complete\n",
      "----------------------------\n"
     ]
    }
   ],
   "source": [
    "#Create list to store info\n",
    "City = []\n",
    "Country = []\n",
    "date=[]\n",
    "lat = []\n",
    "lon = []\n",
    "max_temp = []\n",
    "humid = []\n",
    "cloud = []\n",
    "wind_speed = []\n",
    "\n",
    "city_number = 1\n",
    "set_count =1\n",
    "# https://stackoverflow.com/questions/42212810/tqdm-in-jupyter-notebook\n",
    "# Start API CAll\n",
    "print(f\"Beginning Data Retrieval\")\n",
    "print(f\"------------------------\")\n",
    "\n",
    "for i, foundcity in enumerate(cities):\n",
    "    #city_url = url + \"appid\" + weather_api_key + \"&q=\" + x + \"&units=imperial\"\n",
    "    #city_number += 1\n",
    "    \n",
    "    # Group in set of 50\n",
    "    if (i % 50 ==0 and i >=50):\n",
    "        set_count += 1\n",
    "        city_number = 0\n",
    "    \n",
    "    print(\"Processing Record %s of set %s | %s\" % (city_number, set_count, foundcity))\n",
    "    \n",
    "    city_number +=1\n",
    "    \n",
    "    try:\n",
    "        response = requests.get(query_url+foundcity).json()\n",
    "        City.append(response[\"name\"])\n",
    "        Country.append(response[\"sys\"]['country'])\n",
    "        date.append(response[\"dt\"])\n",
    "        lat.append(response[\"coord\"][\"lat\"])\n",
    "        lon.append(response[\"coord\"][\"lon\"])\n",
    "        max_temp.append(response[\"main\"][\"temp_max\"])\n",
    "        humid.append(response[\"main\"][\"humidity\"])\n",
    "        cloud.append(response[\"clouds\"][\"all\"])\n",
    "        wind_speed.append(response[\"wind\"][\"speed\"])\n",
    "        city_selected = response[\"name\"]\n",
    "        \n",
    "        #print(f\"Processing record {city_number} | {city_selected}\")\n",
    "        \n",
    "        \n",
    "    except: \n",
    "        print(\"City not found. Skipping...\")\n",
    "    pass \n",
    "\n",
    "        \n",
    "        \n",
    "        \n",
    "\n",
    "print(f\"----------------------------\")\n",
    "print(f\"Data Retrieval Complete\")\n",
    "print(f\"----------------------------\")"
   ]
  },
  {
   "cell_type": "markdown",
   "metadata": {},
   "source": [
    "### Convert Raw Data to DataFrame\n",
    "* Export the city data into a .csv.\n",
    "* Display the DataFrame"
   ]
  },
  {
   "cell_type": "code",
   "execution_count": 80,
   "metadata": {},
   "outputs": [
    {
     "data": {
      "text/plain": [
       "City               575\n",
       "Country            575\n",
       "Date               575\n",
       "Latitude           575\n",
       "Longitude          575\n",
       "Max Temperature    575\n",
       "Humidity           575\n",
       "Cloudy             575\n",
       "Wind Speed         575\n",
       "dtype: int64"
      ]
     },
     "execution_count": 80,
     "metadata": {},
     "output_type": "execute_result"
    }
   ],
   "source": [
    "city_data_df = pd.DataFrame({\"City\": City,\n",
    "                            \"Country\": Country,\n",
    "                            \"Date\": date,\n",
    "                            \"Latitude\": lat,\n",
    "                            \"Longitude\": lon,\n",
    "                            \"Max Temperature\": max_temp,\n",
    "                            \"Humidity\": humid,\n",
    "                            \"Cloudy\": cloud,\n",
    "                            \"Wind Speed\": wind_speed})\n",
    "#Save dataframe to CSV\n",
    "pd.DataFrame.to_csv(city_data_df, 'city_data.csv')\n",
    "\n",
    "city_data_df.count()"
   ]
  },
  {
   "cell_type": "code",
   "execution_count": 81,
   "metadata": {},
   "outputs": [
    {
     "data": {
      "text/html": [
       "<div>\n",
       "<style scoped>\n",
       "    .dataframe tbody tr th:only-of-type {\n",
       "        vertical-align: middle;\n",
       "    }\n",
       "\n",
       "    .dataframe tbody tr th {\n",
       "        vertical-align: top;\n",
       "    }\n",
       "\n",
       "    .dataframe thead th {\n",
       "        text-align: right;\n",
       "    }\n",
       "</style>\n",
       "<table border=\"1\" class=\"dataframe\">\n",
       "  <thead>\n",
       "    <tr style=\"text-align: right;\">\n",
       "      <th></th>\n",
       "      <th>City</th>\n",
       "      <th>Country</th>\n",
       "      <th>Date</th>\n",
       "      <th>Latitude</th>\n",
       "      <th>Longitude</th>\n",
       "      <th>Max Temperature</th>\n",
       "      <th>Humidity</th>\n",
       "      <th>Cloudy</th>\n",
       "      <th>Wind Speed</th>\n",
       "    </tr>\n",
       "  </thead>\n",
       "  <tbody>\n",
       "    <tr>\n",
       "      <th>0</th>\n",
       "      <td>Barrow</td>\n",
       "      <td>US</td>\n",
       "      <td>1595038838</td>\n",
       "      <td>71.29</td>\n",
       "      <td>-156.79</td>\n",
       "      <td>37.40</td>\n",
       "      <td>74</td>\n",
       "      <td>75</td>\n",
       "      <td>17.22</td>\n",
       "    </tr>\n",
       "    <tr>\n",
       "      <th>1</th>\n",
       "      <td>Cabo San Lucas</td>\n",
       "      <td>MX</td>\n",
       "      <td>1595039085</td>\n",
       "      <td>22.89</td>\n",
       "      <td>-109.91</td>\n",
       "      <td>86.00</td>\n",
       "      <td>58</td>\n",
       "      <td>5</td>\n",
       "      <td>16.11</td>\n",
       "    </tr>\n",
       "    <tr>\n",
       "      <th>2</th>\n",
       "      <td>Cururupu</td>\n",
       "      <td>BR</td>\n",
       "      <td>1595039085</td>\n",
       "      <td>-1.83</td>\n",
       "      <td>-44.87</td>\n",
       "      <td>73.09</td>\n",
       "      <td>93</td>\n",
       "      <td>10</td>\n",
       "      <td>0.51</td>\n",
       "    </tr>\n",
       "    <tr>\n",
       "      <th>3</th>\n",
       "      <td>Krasnoslobodsk</td>\n",
       "      <td>RU</td>\n",
       "      <td>1595039085</td>\n",
       "      <td>48.71</td>\n",
       "      <td>44.57</td>\n",
       "      <td>71.60</td>\n",
       "      <td>40</td>\n",
       "      <td>40</td>\n",
       "      <td>8.95</td>\n",
       "    </tr>\n",
       "    <tr>\n",
       "      <th>4</th>\n",
       "      <td>Ilulissat</td>\n",
       "      <td>GL</td>\n",
       "      <td>1595038909</td>\n",
       "      <td>69.22</td>\n",
       "      <td>-51.10</td>\n",
       "      <td>51.80</td>\n",
       "      <td>61</td>\n",
       "      <td>67</td>\n",
       "      <td>6.93</td>\n",
       "    </tr>\n",
       "  </tbody>\n",
       "</table>\n",
       "</div>"
      ],
      "text/plain": [
       "             City Country        Date  Latitude  Longitude  Max Temperature  \\\n",
       "0          Barrow      US  1595038838     71.29    -156.79            37.40   \n",
       "1  Cabo San Lucas      MX  1595039085     22.89    -109.91            86.00   \n",
       "2        Cururupu      BR  1595039085     -1.83     -44.87            73.09   \n",
       "3  Krasnoslobodsk      RU  1595039085     48.71      44.57            71.60   \n",
       "4       Ilulissat      GL  1595038909     69.22     -51.10            51.80   \n",
       "\n",
       "   Humidity  Cloudy  Wind Speed  \n",
       "0        74      75       17.22  \n",
       "1        58       5       16.11  \n",
       "2        93      10        0.51  \n",
       "3        40      40        8.95  \n",
       "4        61      67        6.93  "
      ]
     },
     "execution_count": 81,
     "metadata": {},
     "output_type": "execute_result"
    }
   ],
   "source": [
    "city_data_df.head()"
   ]
  },
  {
   "cell_type": "markdown",
   "metadata": {},
   "source": [
    "## Plotting the Data\n",
    "* Use proper labeling of the plots using plot titles (including date of analysis) and axes labels.\n",
    "* Save the plotted figures as .pngs."
   ]
  },
  {
   "cell_type": "markdown",
   "metadata": {},
   "source": [
    "## Latitude vs. Temperature Plot"
   ]
  },
  {
   "cell_type": "code",
   "execution_count": 82,
   "metadata": {
    "scrolled": true
   },
   "outputs": [
    {
     "data": {
      "image/png": "[encoded data removed]",
      "text/plain": [
       "<Figure size 432x288 with 1 Axes>"
      ]
     },
     "metadata": {
      "needs_background": "light"
     },
     "output_type": "display_data"
    }
   ],
   "source": [
    "plt.scatter(city_data_df.iloc[:,3], city_data_df.iloc[:,5])\n",
    "plt.title(f'City Latitude vs. Temperature (07/17/20)')\n",
    "plt.xlabel('Latitude')\n",
    "plt.ylabel(\"Max Temperature (F)\")\n",
    "plt.show()"
   ]
  },
  {
   "cell_type": "markdown",
   "metadata": {},
   "source": [
    "## Latitude vs. Humidity Plot"
   ]
  },
  {
   "cell_type": "code",
   "execution_count": 83,
   "metadata": {},
   "outputs": [
    {
     "data": {
      "image/png": "[encoded data removed]",
      "text/plain": [
       "<Figure size 432x288 with 1 Axes>"
      ]
     },
     "metadata": {
      "needs_background": "light"
     },
     "output_type": "display_data"
    }
   ],
   "source": [
    "plt.scatter(city_data_df.iloc[:,3], city_data_df.iloc[:,6])\n",
    "plt.title(f'City Latitude vs. Humidity (07/17/20)')\n",
    "plt.xlabel('Latitude')\n",
    "plt.ylabel(\"Humidity (%)\")\n",
    "plt.show()"
   ]
  },
  {
   "cell_type": "markdown",
   "metadata": {},
   "source": [
    "## Latitude vs. Cloudiness Plot"
   ]
  },
  {
   "cell_type": "code",
   "execution_count": 84,
   "metadata": {},
   "outputs": [
    {
     "data": {
      "image/png": "[encoded data removed]",
      "text/plain": [
       "<Figure size 432x288 with 1 Axes>"
      ]
     },
     "metadata": {
      "needs_background": "light"
     },
     "output_type": "display_data"
    }
   ],
   "source": [
    "plt.scatter(city_data_df.iloc[:,3], city_data_df.iloc[:,7])\n",
    "plt.title(f'City Latitude vs. Cloudiness (07/17/20)')\n",
    "plt.xlabel('Latitude')\n",
    "plt.ylabel(\"Cloudiness (%)\")\n",
    "plt.show()"
   ]
  },
  {
   "cell_type": "markdown",
   "metadata": {},
   "source": [
    "## Latitude vs. Wind Speed Plot"
   ]
  },
  {
   "cell_type": "code",
   "execution_count": 85,
   "metadata": {},
   "outputs": [
    {
     "data": {
      "image/png": "[encoded data removed]",
      "text/plain": [
       "<Figure size 432x288 with 1 Axes>"
      ]
     },
     "metadata": {
      "needs_background": "light"
     },
     "output_type": "display_data"
    }
   ],
   "source": [
    "plt.scatter(city_data_df.iloc[:,3], city_data_df.iloc[:,8])\n",
    "plt.title(f'City Latitude vs. Wind Speed (07/17/20)')\n",
    "plt.xlabel('Latitude')\n",
    "plt.ylabel(\"Wind Speed (mph)\")\n",
    "plt.show()"
   ]
  },
  {
   "cell_type": "markdown",
   "metadata": {},
   "source": [
    "## Linear Regression"
   ]
  },
  {
   "cell_type": "code",
   "execution_count": 86,
   "metadata": {},
   "outputs": [],
   "source": [
    "# OPTIONAL: Create a function to create Linear Regression plots\n",
    "line_eq = \"y = \" + str(round(slope,2)) + \"x + \" + str(round(intercept,2))"
   ]
  },
  {
   "cell_type": "code",
   "execution_count": 87,
   "metadata": {},
   "outputs": [],
   "source": [
    "# Create Northern and Southern Hemisphere DataFrames\n",
    "Northern = city_data_df.loc[city_data_df[\"Latitude\"]>=0]\n",
    "Southern = city_data_df.loc[city_data_df[\"Latitude\"]<=0]"
   ]
  },
  {
   "cell_type": "markdown",
   "metadata": {},
   "source": [
    "####  Northern Hemisphere - Max Temp vs. Latitude Linear Regression"
   ]
  },
  {
   "cell_type": "code",
   "execution_count": 88,
   "metadata": {},
   "outputs": [
    {
     "data": {
      "image/png": "[encoded data removed]",
      "text/plain": [
       "<Figure size 432x288 with 1 Axes>"
      ]
     },
     "metadata": {
      "needs_background": "light"
     },
     "output_type": "display_data"
    }
   ],
   "source": [
    "x_values = Northern['Latitude']\n",
    "y_values = Northern['Max Temperature']\n",
    "(slope, intercept, rvalue, pvalue, stderr) = linregress(x_values, y_values)\n",
    "regress_values = x_values * slope + intercept\n",
    "line_eq = \"y = \" + str(round(slope,2)) + \"x + \" + str(round(intercept,2))\n",
    "plt.scatter(x_values,y_values)\n",
    "plt.plot(x_values,regress_values,\"r-\")\n",
    "plt.annotate(line_eq,(0,0),fontsize=15,color=\"red\")\n",
    "plt.xlabel('Latitude')\n",
    "plt.ylabel('Max Temp')\n",
    "plt.show()"
   ]
  },
  {
   "cell_type": "markdown",
   "metadata": {},
   "source": [
    "####  Southern Hemisphere - Max Temp vs. Latitude Linear Regression"
   ]
  },
  {
   "cell_type": "code",
   "execution_count": 89,
   "metadata": {},
   "outputs": [
    {
     "data": {
      "image/png": "[encoded data removed]",
      "text/plain": [
       "<Figure size 432x288 with 1 Axes>"
      ]
     },
     "metadata": {
      "needs_background": "light"
     },
     "output_type": "display_data"
    }
   ],
   "source": [
    "x_values = Southern['Latitude']\n",
    "y_values = Southern['Max Temperature']\n",
    "(slope, intercept, rvalue, pvalue, stderr) = linregress(x_values, y_values)\n",
    "regress_values = x_values * slope + intercept\n",
    "line_eq = \"y = \" + str(round(slope,2)) + \"x + \" + str(round(intercept,2))\n",
    "plt.scatter(x_values,y_values)\n",
    "plt.plot(x_values,regress_values,\"r-\")\n",
    "plt.annotate(line_eq,(0,0),fontsize=15,color=\"red\")\n",
    "plt.xlabel('Latitude')\n",
    "plt.ylabel('Max Temp')\n",
    "plt.show()"
   ]
  },
  {
   "cell_type": "markdown",
   "metadata": {},
   "source": [
    "####  Northern Hemisphere - Humidity (%) vs. Latitude Linear Regression"
   ]
  },
  {
   "cell_type": "code",
   "execution_count": 90,
   "metadata": {},
   "outputs": [
    {
     "data": {
      "image/png": "[encoded data removed]",
      "text/plain": [
       "<Figure size 432x288 with 1 Axes>"
      ]
     },
     "metadata": {
      "needs_background": "light"
     },
     "output_type": "display_data"
    }
   ],
   "source": [
    "x_values = Northern['Latitude']\n",
    "y_values = Northern['Humidity']\n",
    "(slope, intercept, rvalue, pvalue, stderr) = linregress(x_values, y_values)\n",
    "regress_values = x_values * slope + intercept\n",
    "line_eq = \"y = \" + str(round(slope,2)) + \"x + \" + str(round(intercept,2))\n",
    "plt.scatter(x_values,y_values)\n",
    "plt.plot(x_values,regress_values,\"r-\")\n",
    "plt.annotate(line_eq,(0,0),fontsize=15,color=\"red\")\n",
    "plt.xlabel('Latitude')\n",
    "plt.ylabel('Humidity')\n",
    "plt.show()"
   ]
  },
  {
   "cell_type": "markdown",
   "metadata": {},
   "source": [
    "####  Southern Hemisphere - Humidity (%) vs. Latitude Linear Regression"
   ]
  },
  {
   "cell_type": "code",
   "execution_count": 91,
   "metadata": {},
   "outputs": [
    {
     "data": {
      "image/png": "[encoded data removed]",
      "text/plain": [
       "<Figure size 432x288 with 1 Axes>"
      ]
     },
     "metadata": {
      "needs_background": "light"
     },
     "output_type": "display_data"
    }
   ],
   "source": [
    "x_values = Southern['Latitude']\n",
    "y_values = Southern['Humidity']\n",
    "(slope, intercept, rvalue, pvalue, stderr) = linregress(x_values, y_values)\n",
    "regress_values = x_values * slope + intercept\n",
    "line_eq = \"y = \" + str(round(slope,2)) + \"x + \" + str(round(intercept,2))\n",
    "plt.scatter(x_values,y_values)\n",
    "plt.plot(x_values,regress_values,\"r-\")\n",
    "plt.annotate(line_eq,(0,0),fontsize=15,color=\"red\")\n",
    "plt.xlabel('Latitude')\n",
    "plt.ylabel('Humidity')\n",
    "plt.show()"
   ]
  },
  {
   "cell_type": "markdown",
   "metadata": {},
   "source": [
    "####  Northern Hemisphere - Cloudiness (%) vs. Latitude Linear Regression"
   ]
  },
  {
   "cell_type": "code",
   "execution_count": 92,
   "metadata": {},
   "outputs": [
    {
     "data": {
      "image/png": "[encoded data removed]",
      "text/plain": [
       "<Figure size 432x288 with 1 Axes>"
      ]
     },
     "metadata": {
      "needs_background": "light"
     },
     "output_type": "display_data"
    }
   ],
   "source": [
    "x_values = Northern['Latitude']\n",
    "y_values = Northern['Cloudy']\n",
    "(slope, intercept, rvalue, pvalue, stderr) = linregress(x_values, y_values)\n",
    "regress_values = x_values * slope + intercept\n",
    "line_eq = \"y = \" + str(round(slope,2)) + \"x + \" + str(round(intercept,2))\n",
    "plt.scatter(x_values,y_values)\n",
    "plt.plot(x_values,regress_values,\"r-\")\n",
    "plt.annotate(line_eq,(0,0),fontsize=15,color=\"red\")\n",
    "plt.xlabel('Latitude')\n",
    "plt.ylabel('Cloudiness')\n",
    "plt.show()"
   ]
  },
  {
   "cell_type": "markdown",
   "metadata": {},
   "source": [
    "####  Southern Hemisphere - Cloudiness (%) vs. Latitude Linear Regression"
   ]
  },
  {
   "cell_type": "code",
   "execution_count": 93,
   "metadata": {},
   "outputs": [
    {
     "data": {
      "image/png": "[encoded data removed]",
      "text/plain": [
       "<Figure size 432x288 with 1 Axes>"
      ]
     },
     "metadata": {
      "needs_background": "light"
     },
     "output_type": "display_data"
    }
   ],
   "source": [
    "x_values = Southern['Latitude']\n",
    "y_values = Southern['Cloudy']\n",
    "(slope, intercept, rvalue, pvalue, stderr) = linregress(x_values, y_values)\n",
    "regress_values = x_values * slope + intercept\n",
    "line_eq = \"y = \" + str(round(slope,2)) + \"x + \" + str(round(intercept,2))\n",
    "plt.scatter(x_values,y_values)\n",
    "plt.plot(x_values,regress_values,\"r-\")\n",
    "plt.annotate(line_eq,(0,0),fontsize=15,color=\"red\")\n",
    "plt.xlabel('Latitude')\n",
    "plt.ylabel('Cloudiness')\n",
    "plt.show()"
   ]
  },
  {
   "cell_type": "markdown",
   "metadata": {},
   "source": [
    "####  Northern Hemisphere - Wind Speed (mph) vs. Latitude Linear Regression"
   ]
  },
  {
   "cell_type": "code",
   "execution_count": 94,
   "metadata": {},
   "outputs": [
    {
     "data": {
      "image/png": "[encoded data removed]",
      "text/plain": [
       "<Figure size 432x288 with 1 Axes>"
      ]
     },
     "metadata": {
      "needs_background": "light"
     },
     "output_type": "display_data"
    }
   ],
   "source": [
    "x_values = Northern['Latitude']\n",
    "y_values = Northern['Wind Speed']\n",
    "(slope, intercept, rvalue, pvalue, stderr) = linregress(x_values, y_values)\n",
    "regress_values = x_values * slope + intercept\n",
    "line_eq = \"y = \" + str(round(slope,2)) + \"x + \" + str(round(intercept,2))\n",
    "plt.scatter(x_values,y_values)\n",
    "plt.plot(x_values,regress_values,\"r-\")\n",
    "plt.annotate(line_eq,(0,0),fontsize=15,color=\"red\")\n",
    "plt.xlabel('Latitude')\n",
    "plt.ylabel('Wind Speed')\n",
    "plt.show()"
   ]
  },
  {
   "cell_type": "markdown",
   "metadata": {},
   "source": [
    "####  Southern Hemisphere - Wind Speed (mph) vs. Latitude Linear Regression"
   ]
  },
  {
   "cell_type": "code",
   "execution_count": 95,
   "metadata": {},
   "outputs": [
    {
     "data": {
      "image/png": "[encoded data removed]",
      "text/plain": [
       "<Figure size 432x288 with 1 Axes>"
      ]
     },
     "metadata": {
      "needs_background": "light"
     },
     "output_type": "display_data"
    }
   ],
   "source": [
    "x_values = Southern['Latitude']\n",
    "y_values = Southern['Wind Speed']\n",
    "(slope, intercept, rvalue, pvalue, stderr) = linregress(x_values, y_values)\n",
    "regress_values = x_values * slope + intercept\n",
    "line_eq = \"y = \" + str(round(slope,2)) + \"x + \" + str(round(intercept,2))\n",
    "plt.scatter(x_values,y_values)\n",
    "plt.plot(x_values,regress_values,\"r-\")\n",
    "plt.annotate(line_eq,(0,0),fontsize=15,color=\"red\")\n",
    "plt.xlabel('Latitude')\n",
    "plt.ylabel('Wind Speed')\n",
    "plt.show()"
   ]
  },
  {
   "cell_type": "code",
   "execution_count": null,
   "metadata": {},
   "outputs": [],
   "source": []
  }
 ],
 "metadata": {
  "anaconda-cloud": {},
  "kernel_info": {
   "name": "python3"
  },
  "kernelspec": {
   "display_name": "Python 3.6.10 64-bit ('PythonData': conda)",
   "language": "python",
   "name": "python361064bitpythondataconda7465b2e4d16447d5bf5dcc356c678f6e"
  },
  "language_info": {
   "codemirror_mode": {
    "name": "ipython",
    "version": 3
   },
   "file_extension": ".py",
   "mimetype": "text/x-python",
   "name": "python",
   "nbconvert_exporter": "python",
   "pygments_lexer": "ipython3",
   "version": "3.6.10"
  },
  "latex_envs": {
   "LaTeX_envs_menu_present": true,
   "autoclose": false,
   "autocomplete": true,
   "bibliofile": "biblio.bib",
   "cite_by": "apalike",
   "current_citInitial": 1,
   "eqLabelWithNumbers": true,
   "eqNumInitial": 1,
   "hotkeys": {
    "equation": "Ctrl-E",
    "itemize": "Ctrl-I"
   },
   "labels_anchors": false,
   "latex_user_defs": false,
   "report_style_numbering": false,
   "user_envs_cfg": false
  },
  "nteract": {
   "version": "0.12.3"
  }
 },
 "nbformat": 4,
 "nbformat_minor": 4
}
